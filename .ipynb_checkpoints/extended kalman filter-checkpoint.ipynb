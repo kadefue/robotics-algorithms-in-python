{
 "cells": [
  {
   "cell_type": "markdown",
   "metadata": {},
   "source": [
    "# Extended Kalman Filter (EKF) Implementation in Python\n"
   ]
  },
  {
   "cell_type": "code",
   "execution_count": 21,
   "metadata": {},
   "outputs": [],
   "source": [
    "#Import packages and library\n",
    "import os\n",
    "import numpy as np\n",
    "import math\n",
    "import matplotlib.pyplot as plt\n",
    "from scipy.stats import norm\n",
    "%matplotlib inline"
   ]
  },
  {
   "cell_type": "code",
   "execution_count": 22,
   "metadata": {},
   "outputs": [],
   "source": [
    "# Estimation parameter of EKF\n",
    "Q = np.diag([0.1, 0.1, math.radians(1.0), 1.0])**2\n",
    "R = np.diag([1.0, math.radians(40.0)])**2\n",
    "\n",
    "# Simulation parameter\n",
    "Qsim = np.diag([0.5, 0.5])**2\n",
    "Rsim = np.diag([1.0, math.radians(30.0)])**2\n",
    "\n",
    "δt = 0.1 # Time Step between Filter Steps [s]\n",
    "SIM_TIME = 50.0  # simulation time [s]\n",
    "\n",
    "show_animation = True"
   ]
  },
  {
   "cell_type": "code",
   "execution_count": 23,
   "metadata": {},
   "outputs": [],
   "source": [
    "def calc_input():\n",
    "    v = 1.0  # [m/s]\n",
    "    yawrate = 0.1  # [rad/s]\n",
    "    u = np.matrix([v, yawrate]).T\n",
    "    return u"
   ]
  },
  {
   "cell_type": "code",
   "execution_count": 24,
   "metadata": {},
   "outputs": [],
   "source": [
    "def observation(xTrue, xd, u):\n",
    "\n",
    "    xTrue = motion_model(xTrue, u)\n",
    "\n",
    "    # add noise to gps x-y\n",
    "    zx = xTrue[0, 0] + np.random.randn() * Qsim[0, 0]\n",
    "    zy = xTrue[1, 0] + np.random.randn() * Qsim[1, 1]\n",
    "    z = np.matrix([zx, zy])\n",
    "\n",
    "    # add noise to input\n",
    "    ud1 = u[0, 0] + np.random.randn() * Rsim[0, 0]\n",
    "    ud2 = u[1, 0] + np.random.randn() * Rsim[1, 1]\n",
    "    ud = np.matrix([ud1, ud2]).T\n",
    "\n",
    "    xd = motion_model(xd, ud)\n",
    "\n",
    "    return xTrue, z, xd, ud"
   ]
  },
  {
   "cell_type": "code",
   "execution_count": 25,
   "metadata": {},
   "outputs": [],
   "source": [
    "def motion_model(x, u):\n",
    "\n",
    "    F = np.matrix([[1.0, 0, 0, 0],\n",
    "                   [0, 1.0, 0, 0],\n",
    "                   [0, 0, 1.0, 0],\n",
    "                   [0, 0, 0, 0]])\n",
    "\n",
    "    B = np.matrix([[δt * math.cos(x[2, 0]), 0],\n",
    "                   [δt * math.sin(x[2, 0]), 0],\n",
    "                   [0.0, δt],\n",
    "                   [1.0, 0.0]])\n",
    "\n",
    "    x = F * x + B * u\n",
    "\n",
    "    return x"
   ]
  },
  {
   "cell_type": "code",
   "execution_count": 26,
   "metadata": {},
   "outputs": [],
   "source": [
    "def observation_model(x):\n",
    "    #  Observation Model\n",
    "    H = np.matrix([\n",
    "        [1, 0, 0, 0],\n",
    "        [0, 1, 0, 0]\n",
    "    ])\n",
    "\n",
    "    z = H * x\n",
    "\n",
    "    return z"
   ]
  },
  {
   "cell_type": "code",
   "execution_count": 27,
   "metadata": {},
   "outputs": [],
   "source": [
    "def jacobF(x, u):\n",
    "    # Jacobian of Motion Model\n",
    "    yaw = x[2, 0]\n",
    "    u1 = u[0, 0]\n",
    "    jF = np.matrix([\n",
    "        [1.0, 0.0, -δt * u1 * math.sin(yaw), δt * u1 * math.cos(yaw)],\n",
    "        [0.0, 1.0, δt * math.cos(yaw), δt * math.sin(yaw)],\n",
    "        [0.0, 0.0, 1.0, 0.0],\n",
    "        [0.0, 0.0, 0.0, 1.0]])\n",
    "\n",
    "    return jF"
   ]
  },
  {
   "cell_type": "code",
   "execution_count": 28,
   "metadata": {},
   "outputs": [],
   "source": [
    "def jacobH(x):\n",
    "    # Jacobian of Observation Model\n",
    "    jH = np.matrix([\n",
    "        [1, 0, 0, 0],\n",
    "        [0, 1, 0, 0]\n",
    "    ])\n",
    "\n",
    "    return jH"
   ]
  },
  {
   "cell_type": "code",
   "execution_count": 29,
   "metadata": {},
   "outputs": [],
   "source": [
    "def ekf_estimation(xEst, PEst, z, u):\n",
    "\n",
    "    #  Predict\n",
    "    xPred = motion_model(xEst, u)\n",
    "    jF = jacobF(xPred, u)\n",
    "    PPred = jF * PEst * jF.T + Q\n",
    "\n",
    "    #  Update\n",
    "    jH = jacobH(xPred)\n",
    "    zPred = observation_model(xPred)\n",
    "    y = z.T - zPred\n",
    "    S = jH * PPred * jH.T + R\n",
    "    K = PPred * jH.T * np.linalg.inv(S)\n",
    "    xEst = xPred + K * y\n",
    "    PEst = (np.eye(len(xEst)) - K * jH) * PPred\n",
    "\n",
    "    return xEst, PEst"
   ]
  },
  {
   "cell_type": "code",
   "execution_count": 30,
   "metadata": {},
   "outputs": [],
   "source": [
    "def plot_covariance_ellipse(xEst, PEst):\n",
    "    Pxy = PEst[0:2, 0:2]\n",
    "    eigval, eigvec = np.linalg.eig(Pxy)\n",
    "\n",
    "    if eigval[0] >= eigval[1]:\n",
    "        bigind = 0\n",
    "        smallind = 1\n",
    "    else:\n",
    "        bigind = 1\n",
    "        smallind = 0\n",
    "\n",
    "    t = np.arange(0, 2 * math.pi + 0.1, 0.1)\n",
    "    a = math.sqrt(eigval[bigind])\n",
    "    b = math.sqrt(eigval[smallind])\n",
    "    x = [a * math.cos(it) for it in t]\n",
    "    y = [b * math.sin(it) for it in t]\n",
    "    angle = math.atan2(eigvec[bigind, 1], eigvec[bigind, 0])\n",
    "    R = np.matrix([[math.cos(angle), math.sin(angle)],\n",
    "                   [-math.sin(angle), math.cos(angle)]])\n",
    "    fx = R * np.matrix([x, y])\n",
    "    px = np.array(fx[0, :] + xEst[0, 0]).flatten()\n",
    "    py = np.array(fx[1, :] + xEst[1, 0]).flatten()\n",
    "    plt.plot(px, py, \"--r\")\n",
    "    "
   ]
  },
  {
   "cell_type": "code",
   "execution_count": 31,
   "metadata": {},
   "outputs": [],
   "source": [
    "def main():\n",
    "    print(__file__ + \" start!!\")\n",
    "\n",
    "    time = 0.0\n",
    "\n",
    "    # State Vector [x y yaw v]'\n",
    "    xEst = np.matrix(np.zeros((4, 1)))\n",
    "    xTrue = np.matrix(np.zeros((4, 1)))\n",
    "    PEst = np.eye(4)\n",
    "\n",
    "    xDR = np.matrix(np.zeros((4, 1)))  # Dead reckoning\n",
    "\n",
    "    # history\n",
    "    hxEst = xEst\n",
    "    hxTrue = xTrue\n",
    "    hxDR = xTrue\n",
    "    hz = np.zeros((1, 2))\n",
    "\n",
    "    while SIM_TIME >= time:\n",
    "        time += DT\n",
    "        u = calc_input()\n",
    "\n",
    "        xTrue, z, xDR, ud = observation(xTrue, xDR, u)\n",
    "\n",
    "        xEst, PEst = ekf_estimation(xEst, PEst, z, ud)\n",
    "\n",
    "        # store data history\n",
    "        hxEst = np.hstack((hxEst, xEst))\n",
    "        hxDR = np.hstack((hxDR, xDR))\n",
    "        hxTrue = np.hstack((hxTrue, xTrue))\n",
    "        hz = np.vstack((hz, z))\n",
    "\n",
    "        if show_animation:\n",
    "            plt.cla()\n",
    "            plt.plot(hz[:, 0], hz[:, 1], \".g\")\n",
    "            plt.plot(np.array(hxTrue[0, :]).flatten(),\n",
    "                     np.array(hxTrue[1, :]).flatten(), \"-b\")\n",
    "            plt.plot(np.array(hxDR[0, :]).flatten(),\n",
    "                     np.array(hxDR[1, :]).flatten(), \"-k\")\n",
    "            plt.plot(np.array(hxEst[0, :]).flatten(),\n",
    "                     np.array(hxEst[1, :]).flatten(), \"-r\")\n",
    "            plot_covariance_ellipse(xEst, PEst)\n",
    "            plt.axis(\"equal\")\n",
    "            plt.grid(True)\n",
    "            plt.pause(0.001)"
   ]
  },
  {
   "cell_type": "code",
   "execution_count": 33,
   "metadata": {
    "scrolled": true
   },
   "outputs": [
    {
     "ename": "NameError",
     "evalue": "name '__file__' is not defined",
     "output_type": "error",
     "traceback": [
      "\u001b[0;31m---------------------------------------------------------------------------\u001b[0m",
      "\u001b[0;31mNameError\u001b[0m                                 Traceback (most recent call last)",
      "\u001b[0;32m<ipython-input-33-c7bc734e5e35>\u001b[0m in \u001b[0;36m<module>\u001b[0;34m()\u001b[0m\n\u001b[1;32m      1\u001b[0m \u001b[0;32mif\u001b[0m \u001b[0m__name__\u001b[0m \u001b[0;34m==\u001b[0m \u001b[0;34m'__main__'\u001b[0m\u001b[0;34m:\u001b[0m\u001b[0;34m\u001b[0m\u001b[0m\n\u001b[0;32m----> 2\u001b[0;31m     \u001b[0mmain\u001b[0m\u001b[0;34m(\u001b[0m\u001b[0;34m)\u001b[0m\u001b[0;34m\u001b[0m\u001b[0m\n\u001b[0m",
      "\u001b[0;32m<ipython-input-31-f0d1e04467fa>\u001b[0m in \u001b[0;36mmain\u001b[0;34m()\u001b[0m\n\u001b[1;32m      1\u001b[0m \u001b[0;32mdef\u001b[0m \u001b[0mmain\u001b[0m\u001b[0;34m(\u001b[0m\u001b[0;34m)\u001b[0m\u001b[0;34m:\u001b[0m\u001b[0;34m\u001b[0m\u001b[0m\n\u001b[0;32m----> 2\u001b[0;31m     \u001b[0mprint\u001b[0m\u001b[0;34m(\u001b[0m\u001b[0m__file__\u001b[0m \u001b[0;34m+\u001b[0m \u001b[0;34m\" start!!\"\u001b[0m\u001b[0;34m)\u001b[0m\u001b[0;34m\u001b[0m\u001b[0m\n\u001b[0m\u001b[1;32m      3\u001b[0m \u001b[0;34m\u001b[0m\u001b[0m\n\u001b[1;32m      4\u001b[0m     \u001b[0mtime\u001b[0m \u001b[0;34m=\u001b[0m \u001b[0;36m0.0\u001b[0m\u001b[0;34m\u001b[0m\u001b[0m\n\u001b[1;32m      5\u001b[0m \u001b[0;34m\u001b[0m\u001b[0m\n",
      "\u001b[0;31mNameError\u001b[0m: name '__file__' is not defined"
     ]
    }
   ],
   "source": [
    "if __name__ == '__main__':\n",
    "    main()"
   ]
  },
  {
   "cell_type": "code",
   "execution_count": null,
   "metadata": {},
   "outputs": [],
   "source": [
    "! sudo apt-get install libmagickwand-dev"
   ]
  }
 ],
 "metadata": {
  "kernelspec": {
   "display_name": "Python 3",
   "language": "python",
   "name": "python3"
  },
  "language_info": {
   "codemirror_mode": {
    "name": "ipython",
    "version": 3
   },
   "file_extension": ".py",
   "mimetype": "text/x-python",
   "name": "python",
   "nbconvert_exporter": "python",
   "pygments_lexer": "ipython3",
   "version": "3.6.4"
  }
 },
 "nbformat": 4,
 "nbformat_minor": 2
}
